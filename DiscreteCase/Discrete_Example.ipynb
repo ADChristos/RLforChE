{
 "cells": [
  {
   "cell_type": "markdown",
   "metadata": {},
   "source": [
    "        STEP 0. IMPORTING ALL NEEDED LIBRARIES\n",
    "Before creating, compiling and training the DQNAgent it is first import to import all needed Libraries:\n",
    "- SimulatorEnv: The Python Class that represents the ASPEN+ Simulation\n",
    "    - Simulator: The ASPEN+ Simulator Class\n",
    "- keras: The Reinforcement Learning Function Library\n",
    "    - models:\n",
    "        - Sequential: Learning Model (Sequence2Sequence)\n",
    "    - layers:\n",
    "        - Dense: The most common DNN Layer Type\n",
    "        - Flatten: Layer used for Flattening the Dimensions of the Input\n",
    "    - optimizers:\n",
    "        - Adam: Stoichastic Gradient Descent optimization method\n",
    "- rl: Further extention of the Keras-RL Library\n",
    "    - agent.dqn: Importing a Deep-Q-Network agent\n",
    "        - DQNAgent: A predifined DQN Agent, made by keras-rl\n",
    "    - policy:\n",
    "        - EpsGreedyQPolicy: Epsilon-Greedy is a policy that balances Exploration&Exploitation\n",
    "        - LinearAnnealedPolicy: Calculates the threshold value following a deceasing linear function\n",
    "    - memory:\n",
    "        - SequenctialMemory: Since the Leanring model is Sequential, the same is chosen for the Memory.\n",
    "    - callbacks:\n",
    "        - ModelIntervalCheckpoint: used to make intermediate saves of the model weights.\n",
    "        - FileLogger: sumplementary function to the one above, used for saving indexes. \n",
    "- numpy: Calculus extension for Python\n",
    "- matplotlib: Plotting Library for Python "
   ]
  },
  {
   "cell_type": "code",
   "execution_count": 2,
   "metadata": {},
   "outputs": [],
   "source": [
    "# Importing the ASPEN+ Simulation:\n",
    "from SimulationEnv import Simulator\n",
    "# Importing the Keras Libraries\n",
    "from keras.models import Sequential\n",
    "from keras.layers import Dense, Flatten\n",
    "from keras.optimizers import Adam\n",
    "# Importing the Keras Extention Libraries\n",
    "from rl.agents.dqn import DQNAgent\n",
    "from rl.policy import EpsGreedyQPolicy, LinearAnnealedPolicy\n",
    "from rl.memory import SequentialMemory\n",
    "from rl.callbacks import ModelIntervalCheckpoint, FileLogger\n",
    "# Importing the Auxiliary Libraries\n",
    "import os\n",
    "import numpy as np\n",
    "import matplotlib.pyplot as plt"
   ]
  },
  {
   "cell_type": "markdown",
   "metadata": {},
   "source": [
    "        STEP 1. DEFINING TRAINING CONSTANTS\n",
    "- STEPS: Is the Total number of choices the Agent makes during traing, in this case 30_000 were chosen, due to the relative simplicity of the problem.\n",
    "\n",
    "- INTERVAL: Is the number of choices during a single Epoch/Interval, by \"cutting\" the overall training in smaller segments the change of Errors is lowered.\n",
    "\n",
    "- WARMUP_STEPS: Is the amount of exploratory steps the Agent can take before starting with the Training.\n",
    "\n",
    "- MEMORY_LIMIT: Is the amount of memory the agent has of its past actions. Too much and too many \"mistakes\" are considered, too little and the agent \"Hyperfocuses\"\n",
    "\n",
    "- DISCOUNT: Signifies how much the Agent cares for future actions. In our case since out moder is sequential future actions are very much important to the training.\n",
    "\n",
    "- LEARNING_RATE: Signifies the rate-of change to the model weights, based on the environemental input."
   ]
  },
  {
   "cell_type": "code",
   "execution_count": 3,
   "metadata": {},
   "outputs": [],
   "source": [
    "STEPS = 20_000\n",
    "WARMUP_STEPS = 100\n",
    "MEMORY_LIMIT = 10_000\n",
    "DISCOUNT = 0.95\n",
    "LEARNING_RATE = 0.001"
   ]
  },
  {
   "cell_type": "markdown",
   "metadata": {},
   "source": [
    "        STEP 2. INITIALIZING THE ENVIRONMENT \n",
    "The next step is relatively straight forward, the ASPEN+ Simulation is Initialized in the background.\n",
    "\n",
    "The reason for starting it in the background  is due to the fact that Visualization makes the process a lot slower.\n",
    "\n",
    "Moreover, we define the number of actions possibles for the Agent, since it is going to be used for the creation of the model."
   ]
  },
  {
   "cell_type": "code",
   "execution_count": 4,
   "metadata": {},
   "outputs": [],
   "source": [
    "# Initializing the Environement\n",
    "env = Simulator()\n",
    "nb_actions = env.action_space.n # Number of Possible Action (CSTR or PFR)"
   ]
  },
  {
   "cell_type": "markdown",
   "metadata": {},
   "source": [
    "        STEP 3. CONSTRUCT THE DEEP-NEURAL-NETWORK (DNN)\n",
    "- As it can be seen the model is chosen be Sequential, since in this case the agent needs to learn, how to take \n",
    "\n",
    "sequentially optimal options through the presented training.\n",
    "\n",
    "- Second is a Flatten layer, used for the input of the DNN, in this case we need to Flatten the Environements input\n",
    "\n",
    "which is based on the predefined observation_space, defined in the SimulationEnv.\n",
    "\n",
    "- Next 3 Equally sized Dense layers are implemented each with 128 Nodes. The more the nodes, the longer it needs to training\n",
    "\n",
    "but also it is more capable of more \"Complex Thoughts\". The activation layer is chosen to be \"RELU\" or Rectified Linear,\n",
    "\n",
    "which sets a threshold, and depending on the value of the input, outputs either 0 or 1.\n",
    "\n",
    "- Finally another Dense layer is created, however in this case the node is singlar, and can also be defined as the  output of the DNN\n",
    "\n",
    "since, depending on the weights of the previous 3 dense layers, the agent ends up chosing between 2 options CSTR or PFR\n",
    "\n"
   ]
  },
  {
   "cell_type": "code",
   "execution_count": 5,
   "metadata": {},
   "outputs": [],
   "source": [
    "model = Sequential() # Sequential model\n",
    "model.add(Flatten(input_shape=(1,) + env.observation_space.shape))\n",
    "model.add(Dense(64,activation=\"relu\"))  #16x3 Relu Dense Layer\n",
    "model.add(Dense(64,activation=\"relu\"))\n",
    "model.add(Dense(64,activation=\"relu\"))\n",
    "model.add(Dense(nb_actions,activation=\"linear\")) #activation is black and white "
   ]
  },
  {
   "cell_type": "markdown",
   "metadata": {},
   "source": [
    "        STEP 4.DEFINING THE FUNCTIONS NEEDED FOR THE DQNAGENT AND COMPILING IT.\n",
    "- POLICY: The policy can be defined as the strategy employed by the agent to reach the goal defined.\n",
    "\n",
    "In this case an Epsilon-Greedy policy is taken, which is a means of balancing betweeen exploration and exploitation. \n",
    "\n",
    "The attribute of this policy is \"epsilon\" which is the exploration factor, and is set between 1 and 0.05.\n",
    "\n",
    "- MEMORY: The memory as previously explained, is the amount of \"choice-outcome\" memory that is given to the agent.\n",
    "\n",
    "The amount of memory-limit that is given to the Agent needs to be chosen as such that it is not too large, \n",
    "\n",
    "since that has the result of making it consider a lot of early \"bad decision\". However if it is made too small \n",
    "\n",
    "the agent might hyperfocus in an inoptimal solution and make no progress.\n",
    "\n",
    "- OPTIMIZER: This defines how the agent optimizes its decision making, \n",
    "\n",
    "in this case a Stoichastic Gradient Descent optimization method is used\n",
    "\n",
    "- DQNAGENT: Is the function that calls a predefined DQNA agent, onto which some parameters need to passed:\n",
    "        - Model: is the predefined model/DNN which the agent will use during training\n",
    "        - nb_steps: is the maximum amount of steps that the agent can take during training \n",
    "        - nb_steps_warmup"
   ]
  },
  {
   "cell_type": "code",
   "execution_count": 6,
   "metadata": {},
   "outputs": [],
   "source": [
    "policy = LinearAnnealedPolicy(EpsGreedyQPolicy(), attr=\"eps\", value_max=1, value_min=.05, value_test=0, nb_steps=STEPS)\n",
    "memory = SequentialMemory(limit=MEMORY_LIMIT, window_length=1)\n",
    "optimizer = Adam(lr=LEARNING_RATE)\n",
    "\n",
    "dqn = DQNAgent(model=model, nb_actions=nb_actions, memory=memory, nb_steps_warmup=WARMUP_STEPS, target_model_update=1e-2,policy=policy, gamma=DISCOUNT)\n",
    "dqn.compile(optimizer=optimizer, metrics=[\"mae\"])"
   ]
  },
  {
   "cell_type": "code",
   "execution_count": 7,
   "metadata": {},
   "outputs": [
    {
     "name": "stdout",
     "output_type": "stream",
     "text": [
      "Training for 20000 steps ...\n",
      "Interval 1.0 (0 steps performed)\n"
     ]
    },
    {
     "name": "stderr",
     "output_type": "stream",
     "text": [
      "C:\\ProgramData\\Anaconda3\\lib\\site-packages\\tensorflow\\python\\keras\\engine\\training.py:2325: UserWarning: `Model.state_updates` will be removed in a future version. This property should not be used in TensorFlow 2.0, as `updates` are applied automatically.\n",
      "  warnings.warn('`Model.state_updates` will be removed in a future version. '\n"
     ]
    },
    {
     "name": "stdout",
     "output_type": "stream",
     "text": [
      "    3/10000 [..............................] - ETA: 3:50:46 - reward: 0.2813~ASPEN+ Restarted 0~\n",
      "  403/10000 [>.............................] - ETA: 3:33:29 - reward: 0.2148~ASPEN+ Restarted 100~\n",
      "  803/10000 [=>............................] - ETA: 3:23:15 - reward: 0.2139~ASPEN+ Restarted 200~\n",
      " 1203/10000 [==>...........................] - ETA: 3:14:44 - reward: 0.2157~ASPEN+ Restarted 300~\n",
      " 1603/10000 [===>..........................] - ETA: 3:08:05 - reward: 0.2154~ASPEN+ Restarted 400~\n",
      " 2003/10000 [=====>........................] - ETA: 3:00:10 - reward: 0.2150~ASPEN+ Restarted 500~\n",
      " 2403/10000 [======>.......................] - ETA: 2:51:44 - reward: 0.2154~ASPEN+ Restarted 600~\n",
      " 2803/10000 [=======>......................] - ETA: 2:42:45 - reward: 0.2157~ASPEN+ Restarted 700~\n",
      " 3203/10000 [========>.....................] - ETA: 2:36:56 - reward: 0.2159~ASPEN+ Restarted 800~\n",
      " 3603/10000 [=========>....................] - ETA: 2:30:00 - reward: 0.2157~ASPEN+ Restarted 900~\n",
      " 4003/10000 [===========>..................] - ETA: 2:23:39 - reward: 0.2160~ASPEN+ Restarted 1000~\n",
      " 4403/10000 [============>.................] - ETA: 2:15:29 - reward: 0.2166~ASPEN+ Restarted 1100~\n",
      " 4803/10000 [=============>................] - ETA: 2:07:54 - reward: 0.2167~ASPEN+ Restarted 1200~\n",
      " 5203/10000 [==============>...............] - ETA: 1:59:23 - reward: 0.2174~ASPEN+ Restarted 1300~\n",
      " 5603/10000 [===============>..............] - ETA: 1:50:28 - reward: 0.2178~ASPEN+ Restarted 1400~\n",
      " 6003/10000 [=================>............] - ETA: 1:41:18 - reward: 0.2180~ASPEN+ Restarted 1500~\n",
      " 6403/10000 [==================>...........] - ETA: 1:31:41 - reward: 0.2183~ASPEN+ Restarted 1600~\n",
      " 6803/10000 [===================>..........] - ETA: 1:21:52 - reward: 0.2184~ASPEN+ Restarted 1700~\n",
      " 7203/10000 [====================>.........] - ETA: 1:12:16 - reward: 0.2187~ASPEN+ Restarted 1800~\n",
      " 7603/10000 [=====================>........] - ETA: 1:02:26 - reward: 0.2190~ASPEN+ Restarted 1900~\n",
      " 8003/10000 [=======================>......] - ETA: 52:23 - reward: 0.2194~ASPEN+ Restarted 2000~\n",
      " 8403/10000 [========================>.....] - ETA: 42:06 - reward: 0.2198~ASPEN+ Restarted 2100~\n",
      " 8803/10000 [=========================>....] - ETA: 31:38 - reward: 0.2201~ASPEN+ Restarted 2200~\n",
      " 9203/10000 [==========================>...] - ETA: 21:09 - reward: 0.2205~ASPEN+ Restarted 2300~\n",
      " 9603/10000 [===========================>..] - ETA: 10:34 - reward: 0.2209~ASPEN+ Restarted 2400~\n",
      "10000/10000 [==============================] - 16008s 2s/step - reward: 0.2211\n",
      "2500 episodes - episode_reward: 0.884 [0.652, 0.953] - loss: 0.010 - mae: 0.340 - mean_q: 0.637 - mean_eps: 0.760\n",
      "\n",
      "Interval 2.0 (10000 steps performed)\n",
      "    3/10000 [..............................] - ETA: 4:55:38 - reward: 0.2813~ASPEN+ Restarted 2500~\n",
      "  403/10000 [>.............................] - ETA: 4:30:55 - reward: 0.2283~ASPEN+ Restarted 2600~\n",
      "  803/10000 [=>............................] - ETA: 4:23:19 - reward: 0.2290~ASPEN+ Restarted 2700~\n",
      " 1203/10000 [==>...........................] - ETA: 4:11:15 - reward: 0.2291~ASPEN+ Restarted 2800~\n",
      " 1603/10000 [===>..........................] - ETA: 4:00:10 - reward: 0.2288~ASPEN+ Restarted 2900~\n",
      " 2003/10000 [=====>........................] - ETA: 3:52:22 - reward: 0.2297~ASPEN+ Restarted 3000~\n",
      " 2403/10000 [======>.......................] - ETA: 3:39:51 - reward: 0.2294~ASPEN+ Restarted 3100~\n",
      " 2803/10000 [=======>......................] - ETA: 3:26:46 - reward: 0.2295~ASPEN+ Restarted 3200~\n",
      " 3203/10000 [========>.....................] - ETA: 3:15:35 - reward: 0.2297~ASPEN+ Restarted 3300~\n",
      " 3603/10000 [=========>....................] - ETA: 3:04:16 - reward: 0.2297~ASPEN+ Restarted 3400~\n",
      " 4003/10000 [===========>..................] - ETA: 2:53:19 - reward: 0.2299~ASPEN+ Restarted 3500~\n",
      " 4403/10000 [============>.................] - ETA: 2:41:36 - reward: 0.2299~ASPEN+ Restarted 3600~\n",
      " 4803/10000 [=============>................] - ETA: 2:30:28 - reward: 0.2302~ASPEN+ Restarted 3700~\n",
      " 5203/10000 [==============>...............] - ETA: 2:19:56 - reward: 0.2305~ASPEN+ Restarted 3800~\n",
      " 5603/10000 [===============>..............] - ETA: 2:08:38 - reward: 0.2308~ASPEN+ Restarted 3900~\n",
      " 6003/10000 [=================>............] - ETA: 1:57:13 - reward: 0.2309~ASPEN+ Restarted 4000~\n",
      " 6403/10000 [==================>...........] - ETA: 1:45:47 - reward: 0.2312~ASPEN+ Restarted 4100~\n",
      " 6803/10000 [===================>..........] - ETA: 1:34:23 - reward: 0.2314~ASPEN+ Restarted 4200~\n",
      " 7203/10000 [====================>.........] - ETA: 1:22:41 - reward: 0.2315~ASPEN+ Restarted 4300~\n",
      " 7603/10000 [=====================>........] - ETA: 1:11:01 - reward: 0.2317~ASPEN+ Restarted 4400~\n",
      " 8003/10000 [=======================>......] - ETA: 59:27 - reward: 0.2319~ASPEN+ Restarted 4500~\n",
      " 8403/10000 [========================>.....] - ETA: 47:40 - reward: 0.2321~ASPEN+ Restarted 4600~\n",
      " 8803/10000 [=========================>....] - ETA: 35:47 - reward: 0.2323~ASPEN+ Restarted 4700~\n",
      " 9203/10000 [==========================>...] - ETA: 23:52 - reward: 0.2325~ASPEN+ Restarted 4800~\n",
      " 9603/10000 [===========================>..] - ETA: 11:54 - reward: 0.2327~ASPEN+ Restarted 4900~\n",
      "10000/10000 [==============================] - 18040s 2s/step - reward: 0.2329\n",
      "done, took 34046.097 seconds\n",
      "dict_keys(['episode_reward', 'nb_episode_steps', 'nb_steps'])\n"
     ]
    }
   ],
   "source": [
    "w_file = \"C:/Users/s2199718/Desktop/DiscreteCase/ModelBackup/dqn-{step:02d}_weights.h5f\"\n",
    "check_w_file = \"C:/Users/s2199718/Desktop/DiscreteCase/ModelBackup/train_w-{step:02d}_weights.h5f\"\n",
    "\n",
    "\n",
    "log_file = \"C:/Users/s2199718/Desktop/DiscreteCase/ModelBackup/training_w_-{step:02d}_log.json\"\n",
    "callbacks = [ModelIntervalCheckpoint(check_w_file, interval=1000)]\n",
    "callbacks += [FileLogger(log_file, interval=250)]\n",
    "\n",
    "\n",
    "hist = dqn.fit(env, callbacks=callbacks, nb_steps=STEPS,log_interval=1e4)\n",
    "reward_data = np.array(hist.history[\"episode_reward\"])\n",
    "print(hist.history.keys())\n"
   ]
  },
  {
   "cell_type": "code",
   "execution_count": 8,
   "metadata": {},
   "outputs": [
    {
     "data": {
      "image/png": "[encoded data removed]",
      "text/plain": [
       "<Figure size 432x288 with 1 Axes>"
      ]
     },
     "metadata": {
      "needs_background": "light"
     },
     "output_type": "display_data"
    }
   ],
   "source": [
    "def running_mean(x, episode_number):\n",
    "    cumsum = np.cumsum(np.insert(x, 0, 0))\n",
    "    return (cumsum[episode_number:] - cumsum[:-episode_number]) / episode_number\n",
    "smoothed_rews = running_mean(reward_data, 100)\n",
    "\n",
    "plt.plot(np.arange(np.shape(smoothed_rews)[0])[-len(smoothed_rews):], smoothed_rews)\n",
    "plt.plot(np.arange(np.shape(reward_data)[0]), reward_data, color='grey', alpha=0.3)\n",
    "plt.xlabel(\"Episodes\")\n",
    "plt.ylabel(\"Reward\")\n",
    "plt.legend([\"avg reward\", \"reward\"], loc=4)\n",
    "plt.savefig('Learning2.png', dpi=300,bbox_inches=\"tight\" )"
   ]
  },
  {
   "cell_type": "code",
   "execution_count": 10,
   "metadata": {},
   "outputs": [],
   "source": [
    "import pandas as pd\n",
    "import matplotlib.pyplot as plt\n",
    "\n",
    "df = pd.DataFrame(reward_data).T\n",
    "df.to_excel(excel_writer = 'C:/Users/s2199718/Desktop/DiscreteCase/Excel/data.xlsx')"
   ]
  }
 ],
 "metadata": {
  "kernelspec": {
   "display_name": "Python 3",
   "language": "python",
   "name": "python3"
  },
  "language_info": {
   "codemirror_mode": {
    "name": "ipython",
    "version": 3
   },
   "file_extension": ".py",
   "mimetype": "text/x-python",
   "name": "python",
   "nbconvert_exporter": "python",
   "pygments_lexer": "ipython3",
   "version": "3.8.5"
  }
 },
 "nbformat": 4,
 "nbformat_minor": 2
}
